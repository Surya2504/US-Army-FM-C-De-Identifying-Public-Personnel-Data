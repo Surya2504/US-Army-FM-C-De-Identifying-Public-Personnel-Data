{
 "cells": [
  {
   "cell_type": "code",
   "execution_count": 33,
   "metadata": {},
   "outputs": [],
   "source": [
    "%matplotlib inline\n",
    "\n",
    "import altair as alt\n",
    "import numpy as np\n",
    "import matplotlib.pyplot as plt\n",
    "import seaborn as sns;\n",
    "import pandas as pd\n",
    "import missingno as msno\n",
    "import os\n",
    "from scipy import stats\n",
    "from scipy.stats import pearsonr\n",
    "sns.set(color_codes=True)\n",
    "import statsmodels.api as sm  \n",
    "from statsmodels.formula.api import ols\n",
    "from sklearn import linear_model\n",
    "%matplotlib inline\n",
    "from sklearn.datasets import load_iris"
   ]
  },
  {
   "cell_type": "code",
   "execution_count": 34,
   "metadata": {},
   "outputs": [],
   "source": [
    "#Agency AGYSUB TEXT\n",
    "#Location LOC TEXT\n",
    "#Age AGELVL TEXT\n",
    "#Education Level EDLVL TEXT\n",
    "#General Schedule & Equivalent Grade GSEGRD TEXT\n",
    "#Length of Service LOSLVL TEXT\n",
    "#Occupation OCC TEXT\n",
    "#Occupation Category PATCO TEXT\n",
    "#Pay Plan & Grade PPGRD TEXT\n",
    "#Salary Level SALLVL TEXT\n",
    "#STEM Occupations STEMOCC TEXT\n",
    "#Supervisory Status SUPERVIS TEXT\n",
    "#Type Appointment TOA TEXT\n",
    "#Work Schedule WORKSCH TEXT\n",
    "#Work Status WORKSTAT TEXT\n",
    "#Date (e.g. 202109) DATECODE TEXT\n",
    "#Employment EMPLOYMENT NUMERIC\n",
    "#Average Salary SALARY NUMERIC\n",
    "#Average Length of Service LOS NUMERIC"
   ]
  },
  {
   "cell_type": "code",
   "execution_count": null,
   "metadata": {},
   "outputs": [
    {
     "name": "stderr",
     "output_type": "stream",
     "text": [
      "/Applications/anaconda3/lib/python3.8/site-packages/IPython/core/interactiveshell.py:3337: DtypeWarning: Columns (3,4,6,8,12,13) have mixed types.Specify dtype option on import or set low_memory=False.\n",
      "  if (await self.run_code(code, result,  async_=asy)):\n"
     ]
    }
   ],
   "source": [
    "FACTDATA06= pd.read_table('FEC062021/FACTDATA_JUN2021.TXT', sep=\",\")\n",
    "FACTDATA06"
   ]
  },
  {
   "cell_type": "code",
   "execution_count": null,
   "metadata": {},
   "outputs": [],
   "source": [
    "FACTDATA09= pd.read_table('FEC092021/FACTDATA_SEP2021.TXT', sep=\",\")\n",
    "FACTDATA09\n"
   ]
  },
  {
   "cell_type": "code",
   "execution_count": null,
   "metadata": {},
   "outputs": [],
   "source": [
    "FACTDATA = pd.concat ([FACTDATA06,FACTDATA09])\n",
    "print(FACTDATA)\n"
   ]
  },
  {
   "cell_type": "code",
   "execution_count": null,
   "metadata": {},
   "outputs": [],
   "source": [
    "FACTDATA .info()"
   ]
  },
  {
   "cell_type": "code",
   "execution_count": null,
   "metadata": {},
   "outputs": [],
   "source": [
    "#Missing data \n",
    "FACTDATA.isnull().sum()"
   ]
  },
  {
   "cell_type": "code",
   "execution_count": null,
   "metadata": {},
   "outputs": [],
   "source": [
    "#Missing data in %\n",
    "FACTDATA.isnull().sum()/(len(FACTDATA))*100"
   ]
  },
  {
   "cell_type": "code",
   "execution_count": null,
   "metadata": {},
   "outputs": [],
   "source": [
    "#Distribution of missing data\n",
    "msno.matrix(FACTDATA)"
   ]
  },
  {
   "cell_type": "code",
   "execution_count": null,
   "metadata": {},
   "outputs": [],
   "source": [
    "#Count data by category Agency 202106\n",
    "FACTDATA_by_Agency06 = FACTDATA06.groupby(\"AGYSUB\")[[\"SALARY\",\"LOS\",\"GSEGRD\",\"EDLVL\" ]].count()\n",
    "FACTDATA_by_Agency06"
   ]
  },
  {
   "cell_type": "code",
   "execution_count": null,
   "metadata": {},
   "outputs": [],
   "source": [
    "#Count data by category Agency 202109\n",
    "FACTDATA_by_Agency09 = FACTDATA09.groupby(\"AGYSUB\")[[\"SALARY\",\"LOS\",\"GSEGRD\",\"EDLVL\" ]].count()\n",
    "FACTDATA_by_Agency09"
   ]
  },
  {
   "cell_type": "code",
   "execution_count": null,
   "metadata": {},
   "outputs": [],
   "source": [
    "#Minssing data group by category Agency 202106 and 202109.\n",
    "FACTDATA_by_Agency_N= FACTDATA.groupby(['AGYSUB','DATECODE'])[[\"SALARY\",\"GSEGRD\",\"EDLVL\",\"LOS\"]].apply(lambda x: x.isnull().sum())\n",
    "\n",
    "FACTDATA_by_Agency_N\n"
   ]
  },
  {
   "cell_type": "code",
   "execution_count": null,
   "metadata": {},
   "outputs": [],
   "source": [
    "#Missing data in % on Education level, Length of Service, Average Salary and General Schedule & Equivalent Grade,\n",
    "#group by Agency and date. \n",
    "FACTDATA_by_Agency_M= FACTDATA.groupby(['AGYSUB'])[[\"SALARY\",\"GSEGRD\",\"EDLVL\",\"LOS\" ]].apply(lambda x: x.isnull().sum()/(len(FACTDATA))*100)\n",
    "\n",
    "\n",
    "FACTDATA_by_Agency_Msum=FACTDATA_by_Agency_M.eval('Sum = SALARY +GSEGRD+EDLVL+ LOS')\n",
    "print(FACTDATA_by_Agency_Msum)\n",
    "\n",
    "\n"
   ]
  },
  {
   "cell_type": "code",
   "execution_count": null,
   "metadata": {},
   "outputs": [],
   "source": [
    "FACTDATA_by_Agency_MSort=FACTDATA_by_Agency_Msum.sort_values(by=['Sum'])"
   ]
  },
  {
   "cell_type": "code",
   "execution_count": null,
   "metadata": {},
   "outputs": [],
   "source": [
    "pd.set_option(\"display.max_rows\",None)\n",
    "\n",
    "FACTDATA_by_Agency_MSortsum=FACTDATA_by_Agency_MSort[\"Sum\"]\n",
    "\n",
    "print(FACTDATA_by_Agency_MSortsum)\n"
   ]
  },
  {
   "cell_type": "code",
   "execution_count": null,
   "metadata": {},
   "outputs": [],
   "source": [
    "#select data that has no missing value in Agency Category which contains 32 agencies.\n",
    "FACTDATA_setdata = FACTDATA.loc[FACTDATA['AGYSUB'].isin(['HU06','HUKA','AF2F','AF2H','HU10','HU09',\n",
    "                                                         'HU08','AF2S','AF2T','EDET','HU07',\n",
    "                                                         'HU05','HU04','HU03','HU02','HU01',\n",
    "                                                         'HE31','AF1Q', 'HUUU','AF20','HUXX',\n",
    "                                                         'VAKB ','VAGE','VAGD','VAAI','AF0U','VA**',\n",
    "                                                        'ARXX','VABD','HW00','AF2K','ARXK '])]\n",
    "FACTDATA_setdata"
   ]
  },
  {
   "cell_type": "code",
   "execution_count": null,
   "metadata": {},
   "outputs": [],
   "source": [
    "#Recheck the dataset, to make sure we only keep selected rows on PATCO\n",
    "FACTDATA_by_Agency_M_test= FACTDATA_setdata.groupby(['AGYSUB','DATECODE'])[[\"SALARY\",\"GSEGRD\",\"EDLVL\",\"LOS\" ]].apply(lambda x: x.isnull().sum()/(len(FACTDATA))*100)\n",
    "\n",
    "FACTDATA_by_Agency_M_test"
   ]
  },
  {
   "cell_type": "code",
   "execution_count": null,
   "metadata": {},
   "outputs": [],
   "source": [
    "#Missing data \n",
    "FACTDATA_setdata.isnull().sum()"
   ]
  },
  {
   "cell_type": "code",
   "execution_count": null,
   "metadata": {},
   "outputs": [],
   "source": [
    "FACTDATA_setdata.isnull().sum()/(len(FACTDATA))*100"
   ]
  },
  {
   "cell_type": "code",
   "execution_count": null,
   "metadata": {},
   "outputs": [],
   "source": []
  },
  {
   "cell_type": "code",
   "execution_count": null,
   "metadata": {},
   "outputs": [],
   "source": []
  },
  {
   "cell_type": "code",
   "execution_count": null,
   "metadata": {},
   "outputs": [],
   "source": []
  },
  {
   "cell_type": "code",
   "execution_count": null,
   "metadata": {},
   "outputs": [],
   "source": []
  },
  {
   "cell_type": "code",
   "execution_count": null,
   "metadata": {},
   "outputs": [],
   "source": []
  },
  {
   "cell_type": "code",
   "execution_count": null,
   "metadata": {},
   "outputs": [],
   "source": []
  },
  {
   "cell_type": "code",
   "execution_count": null,
   "metadata": {},
   "outputs": [],
   "source": []
  },
  {
   "cell_type": "code",
   "execution_count": null,
   "metadata": {},
   "outputs": [],
   "source": []
  },
  {
   "cell_type": "code",
   "execution_count": null,
   "metadata": {},
   "outputs": [],
   "source": []
  },
  {
   "cell_type": "code",
   "execution_count": null,
   "metadata": {},
   "outputs": [],
   "source": []
  }
 ],
 "metadata": {
  "kernelspec": {
   "display_name": "Python 3",
   "language": "python",
   "name": "python3"
  },
  "language_info": {
   "codemirror_mode": {
    "name": "ipython",
    "version": 3
   },
   "file_extension": ".py",
   "mimetype": "text/x-python",
   "name": "python",
   "nbconvert_exporter": "python",
   "pygments_lexer": "ipython3",
   "version": "3.8.5"
  }
 },
 "nbformat": 4,
 "nbformat_minor": 4
}
