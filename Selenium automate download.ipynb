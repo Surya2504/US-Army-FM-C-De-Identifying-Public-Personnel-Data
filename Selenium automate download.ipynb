{
 "cells": [
  {
   "cell_type": "code",
   "execution_count": 34,
   "id": "7d175fe3",
   "metadata": {},
   "outputs": [
    {
     "name": "stdout",
     "output_type": "stream",
     "text": [
      "Requirement already satisfied: Selenium in c:\\users\\veena\\anaconda3\\lib\\site-packages (4.1.2)\n",
      "Requirement already satisfied: trio~=0.17 in c:\\users\\veena\\anaconda3\\lib\\site-packages (from Selenium) (0.20.0)\n",
      "Requirement already satisfied: urllib3[secure,socks]~=1.26 in c:\\users\\veena\\anaconda3\\lib\\site-packages (from Selenium) (1.26.7)\n",
      "Requirement already satisfied: trio-websocket~=0.9 in c:\\users\\veena\\anaconda3\\lib\\site-packages (from Selenium) (0.9.2)\n",
      "Requirement already satisfied: outcome in c:\\users\\veena\\anaconda3\\lib\\site-packages (from trio~=0.17->Selenium) (1.1.0)\n",
      "Requirement already satisfied: idna in c:\\users\\veena\\anaconda3\\lib\\site-packages (from trio~=0.17->Selenium) (3.2)\n",
      "Requirement already satisfied: attrs>=19.2.0 in c:\\users\\veena\\anaconda3\\lib\\site-packages (from trio~=0.17->Selenium) (21.2.0)\n",
      "Requirement already satisfied: cffi>=1.14 in c:\\users\\veena\\anaconda3\\lib\\site-packages (from trio~=0.17->Selenium) (1.14.6)\n",
      "Requirement already satisfied: sniffio in c:\\users\\veena\\anaconda3\\lib\\site-packages (from trio~=0.17->Selenium) (1.2.0)\n",
      "Requirement already satisfied: async-generator>=1.9 in c:\\users\\veena\\anaconda3\\lib\\site-packages (from trio~=0.17->Selenium) (1.10)\n",
      "Requirement already satisfied: sortedcontainers in c:\\users\\veena\\anaconda3\\lib\\site-packages (from trio~=0.17->Selenium) (2.4.0)\n",
      "Requirement already satisfied: pycparser in c:\\users\\veena\\anaconda3\\lib\\site-packages (from cffi>=1.14->trio~=0.17->Selenium) (2.20)\n",
      "Requirement already satisfied: wsproto>=0.14 in c:\\users\\veena\\anaconda3\\lib\\site-packages (from trio-websocket~=0.9->Selenium) (1.1.0)\n",
      "Requirement already satisfied: PySocks!=1.5.7,<2.0,>=1.5.6 in c:\\users\\veena\\anaconda3\\lib\\site-packages (from urllib3[secure,socks]~=1.26->Selenium) (1.7.1)\n",
      "Requirement already satisfied: pyOpenSSL>=0.14 in c:\\users\\veena\\anaconda3\\lib\\site-packages (from urllib3[secure,socks]~=1.26->Selenium) (21.0.0)\n",
      "Requirement already satisfied: cryptography>=1.3.4 in c:\\users\\veena\\anaconda3\\lib\\site-packages (from urllib3[secure,socks]~=1.26->Selenium) (3.4.8)\n",
      "Requirement already satisfied: certifi in c:\\users\\veena\\anaconda3\\lib\\site-packages (from urllib3[secure,socks]~=1.26->Selenium) (2021.10.8)\n",
      "Requirement already satisfied: six>=1.5.2 in c:\\users\\veena\\anaconda3\\lib\\site-packages (from pyOpenSSL>=0.14->urllib3[secure,socks]~=1.26->Selenium) (1.16.0)\n",
      "Requirement already satisfied: h11<1,>=0.9.0 in c:\\users\\veena\\anaconda3\\lib\\site-packages (from wsproto>=0.14->trio-websocket~=0.9->Selenium) (0.13.0)\n",
      "Note: you may need to restart the kernel to use updated packages.\n"
     ]
    }
   ],
   "source": [
    "pip install Selenium"
   ]
  },
  {
   "cell_type": "code",
   "execution_count": 1,
   "id": "47913cdd",
   "metadata": {},
   "outputs": [
    {
     "name": "stdout",
     "output_type": "stream",
     "text": [
      "Requirement already satisfied: chromedriver-autoinstaller in c:\\users\\veena\\anaconda3\\lib\\site-packages (0.3.1)Note: you may need to restart the kernel to use updated packages.\n",
      "\n"
     ]
    }
   ],
   "source": [
    "pip install chromedriver-autoinstaller"
   ]
  },
  {
   "cell_type": "code",
   "execution_count": 35,
   "id": "3eee18d1",
   "metadata": {},
   "outputs": [
    {
     "name": "stderr",
     "output_type": "stream",
     "text": [
      "C:\\Users\\veena\\AppData\\Local\\Temp/ipykernel_20212/3120139749.py:21: DeprecationWarning: use options instead of chrome_options\n",
      "  driver = webdriver.Chrome(chrome_options=options)\n"
     ]
    },
    {
     "name": "stdout",
     "output_type": "stream",
     "text": [
      "Data, Analysis & Documentation : Raw Datasets - OPM.gov\n",
      "June Zipfile downloaded\n"
     ]
    },
    {
     "name": "stderr",
     "output_type": "stream",
     "text": [
      "C:\\Users\\veena\\AppData\\Local\\Temp/ipykernel_20212/3120139749.py:28: DeprecationWarning: find_element_by_xpath is deprecated. Please use find_element(by=By.XPATH, value=xpath) instead\n",
      "  JunZip = driver.find_element_by_xpath('(//*[@id=\"ctl01_ctl00_MainContentDiv\"]/table[2]/tbody/tr[2]/td[3]/span/a/img)[1]').click()\n"
     ]
    },
    {
     "name": "stdout",
     "output_type": "stream",
     "text": [
      "September Zipfile downloaded\n"
     ]
    },
    {
     "name": "stderr",
     "output_type": "stream",
     "text": [
      "C:\\Users\\veena\\AppData\\Local\\Temp/ipykernel_20212/3120139749.py:31: DeprecationWarning: find_element_by_xpath is deprecated. Please use find_element(by=By.XPATH, value=xpath) instead\n",
      "  SepZip = driver.find_element_by_xpath('(/html/body/form/div[4]/div/div[3]/table[2]/tbody/tr[3]/td[3]/span/a/img)').click()\n"
     ]
    }
   ],
   "source": [
    "from selenium import webdriver\n",
    "import chromedriver_autoinstaller\n",
    "import time\n",
    "import os\n",
    "import pathlib\n",
    "\n",
    "#Autoinstall Chrome Driver\n",
    "chromedriver_autoinstaller.install()  # Check if the current version of chromedriver exists\n",
    "                                      # and if it doesn't exist, download it automatically,\n",
    "                                      # then add chromedriver to path\n",
    "        \n",
    "# Preference to choose the file Download Directory\n",
    "\n",
    "options = webdriver.ChromeOptions();\n",
    "\n",
    "prefs = {\"download.default_directory\" : os.getcwd()};\n",
    "\n",
    "options.add_experimental_option(\"prefs\",prefs);\n",
    "\n",
    "# Launching Chrome Browser and OPM website\n",
    "driver = webdriver.Chrome(chrome_options=options)\n",
    "driver.get(\"https://www.opm.gov/data/index.aspx\")\n",
    "print(driver.title)\n",
    "\n",
    "\n",
    "# Finding Zipfile by xpath and downloading\n",
    "\n",
    "JunZip = driver.find_element_by_xpath('(//*[@id=\"ctl01_ctl00_MainContentDiv\"]/table[2]/tbody/tr[2]/td[3]/span/a/img)[1]').click()\n",
    "print(\"June Zipfile downloaded\")\n",
    "time.sleep(20)\n",
    "SepZip = driver.find_element_by_xpath('(/html/body/form/div[4]/div/div[3]/table[2]/tbody/tr[3]/td[3]/span/a/img)').click()\n",
    "print(\"September Zipfile downloaded\")\n"
   ]
  },
  {
   "cell_type": "code",
   "execution_count": null,
   "id": "8a58eb45",
   "metadata": {},
   "outputs": [],
   "source": []
  }
 ],
 "metadata": {
  "kernelspec": {
   "display_name": "Python 3 (ipykernel)",
   "language": "python",
   "name": "python3"
  },
  "language_info": {
   "codemirror_mode": {
    "name": "ipython",
    "version": 3
   },
   "file_extension": ".py",
   "mimetype": "text/x-python",
   "name": "python",
   "nbconvert_exporter": "python",
   "pygments_lexer": "ipython3",
   "version": "3.9.7"
  }
 },
 "nbformat": 4,
 "nbformat_minor": 5
}
