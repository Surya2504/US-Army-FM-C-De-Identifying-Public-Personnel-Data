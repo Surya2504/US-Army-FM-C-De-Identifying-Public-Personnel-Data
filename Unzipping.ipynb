{
 "cells": [
  {
   "cell_type": "markdown",
   "metadata": {},
   "source": [
    "Importing Libraries"
   ]
  },
  {
   "cell_type": "code",
   "execution_count": 2,
   "metadata": {},
   "outputs": [],
   "source": [
    "from zipfile import ZipFile\n",
    "import wget"
   ]
  },
  {
   "cell_type": "markdown",
   "metadata": {},
   "source": [
    "Downloading Zipfiles"
   ]
  },
  {
   "cell_type": "code",
   "execution_count": 4,
   "metadata": {},
   "outputs": [
    {
     "name": "stdout",
     "output_type": "stream",
     "text": [
      "5f8e430d-fb84-4856-a25b-81f6dcc0eb7f.zip\n",
      "9a772b04-cab4-4b89-b62a-a3859371cb13.zip\n"
     ]
    }
   ],
   "source": [
    "url_s='https://www.opm.gov/Data/Files/633/5f8e430d-fb84-4856-a25b-81f6dcc0eb7f.zip'\n",
    "sep = wget.download(url_s)\n",
    "print(sep)\n",
    "\n",
    "url_j='https://www.opm.gov/Data/Files/630/9a772b04-cab4-4b89-b62a-a3859371cb13.zip'\n",
    "jun = wget.download(url_j)\n",
    "print(jun)"
   ]
  },
  {
   "cell_type": "markdown",
   "metadata": {},
   "source": [
    "Assigning the downloaded zipfiles to variables"
   ]
  },
  {
   "cell_type": "code",
   "execution_count": 5,
   "metadata": {},
   "outputs": [],
   "source": [
    "file_s = \"5f8e430d-fb84-4856-a25b-81f6dcc0eb7f.zip\"\n",
    "file_j = \"9a772b04-cab4-4b89-b62a-a3859371cb13.zip\""
   ]
  },
  {
   "cell_type": "markdown",
   "metadata": {},
   "source": [
    "Extracting them into a folder"
   ]
  },
  {
   "cell_type": "code",
   "execution_count": 6,
   "metadata": {},
   "outputs": [
    {
     "name": "stdout",
     "output_type": "stream",
     "text": [
      "File Name                                             Modified             Size\n",
      "DTagelvl.txt                                   2021-12-14 10:16:26          142\n",
      "DTagy.txt                                      2021-12-14 10:16:20        62928\n",
      "DTdate.txt                                     2021-12-14 10:17:14           37\n",
      "DTedlvl.txt                                    2021-12-14 10:16:40         1342\n",
      "DTgsegrd.txt                                   2021-12-14 10:16:44           74\n",
      "DTloc.txt                                      2021-12-14 10:16:24         8205\n",
      "DTloslvl.txt                                   2021-12-14 10:16:48          201\n",
      "DTocc.txt                                      2021-12-14 10:16:50        57611\n",
      "DTpatco.txt                                    2021-12-14 10:16:52          125\n",
      "DTpp.txt                                       2021-12-14 10:16:54          274\n",
      "DTppgrd.txt                                    2021-12-14 10:16:54       135544\n",
      "DTsallvl.txt                                   2021-12-14 10:17:00          643\n",
      "DTstemocc.txt                                  2021-12-14 10:17:12         8620\n",
      "DTsuper.txt                                    2021-12-14 10:17:02          288\n",
      "DTtoa.txt                                      2021-12-14 10:17:04         1081\n",
      "DTwkstat.txt                                   2021-12-14 10:17:08           75\n",
      "DTwrksch.txt                                   2021-12-14 10:17:08          562\n",
      "FACTDATA_SEP2021.TXT                           2021-12-14 10:27:42    154567010\n",
      "FS_Employment_Sep2021_Documentation.pdf        2021-12-15 23:00:10       530947\n",
      "ReadRawData_CreateTempDatasets_DataGov.sas     2021-12-15 22:10:08         8235\n",
      "Extracting all the files now...\n",
      "Completed downloading September data\n"
     ]
    }
   ],
   "source": [
    "with ZipFile(file_s, 'r') as zip:\n",
    "    # printing all the contents of the September zip file\n",
    "    zip.printdir()\n",
    "  \n",
    "    # extracting all the files from September\n",
    "    print('Extracting all the files now...')\n",
    "    zip.extractall('/Users/tejaswidodda/Documents/GMU/Spring 2022/DAEN 690/Jupyter_Code/SepData')\n",
    "    print('Completed downloading September data')"
   ]
  },
  {
   "cell_type": "code",
   "execution_count": 7,
   "metadata": {},
   "outputs": [
    {
     "name": "stdout",
     "output_type": "stream",
     "text": [
      "File Name                                             Modified             Size\n",
      "DTagelvl.txt                                   2021-08-27 16:44:12          142\n",
      "DTagy.txt                                      2021-08-27 16:44:06        63042\n",
      "DTdate.txt                                     2021-08-27 16:45:04           37\n",
      "DTedlvl.txt                                    2021-08-27 16:44:26         1342\n",
      "DTgsegrd.txt                                   2021-08-27 16:44:32           74\n",
      "DTloc.txt                                      2021-08-27 16:44:10         8154\n",
      "DTloslvl.txt                                   2021-08-27 16:44:36          201\n",
      "DTocc.txt                                      2021-08-27 16:44:38        57611\n",
      "DTpatco.txt                                    2021-08-27 16:44:40          125\n",
      "DTpp.txt                                       2021-08-27 16:44:42          274\n",
      "DTppgrd.txt                                    2021-08-27 16:44:42       137637\n",
      "DTsallvl.txt                                   2021-08-27 16:44:48          643\n",
      "DTstemocc.txt                                  2021-08-27 16:45:02         8620\n",
      "DTsuper.txt                                    2021-08-27 16:44:52          288\n",
      "DTtoa.txt                                      2021-08-27 16:44:54         1081\n",
      "DTwkstat.txt                                   2021-08-27 16:45:00           75\n",
      "DTwrksch.txt                                   2021-08-27 16:44:58          562\n",
      "FACTDATA_JUN2021.TXT                           2021-08-27 16:47:22    154511265\n",
      "FS_Employment_Jun2021_Documentation.pdf        2021-08-28 16:55:54       529009\n",
      "ReadRawData_CreateTempDatasets_DataGov.sas     2021-08-28 16:37:22         8235\n",
      "Extracting all the files now...\n",
      "Completed downloading June data\n"
     ]
    }
   ],
   "source": [
    "with ZipFile(file_j, 'r') as zip:\n",
    "    # printing all the contents of the June zip file\n",
    "    zip.printdir()\n",
    "  \n",
    "    # extracting all the files from June\n",
    "    print('Extracting all the files now...')\n",
    "    zip.extractall('/Users/tejaswidodda/Documents/GMU/Spring 2022/DAEN 690/Jupyter_Code/JunData')\n",
    "    print('Completed downloading June data')"
   ]
  },
  {
   "cell_type": "code",
   "execution_count": null,
   "metadata": {},
   "outputs": [],
   "source": []
  }
 ],
 "metadata": {
  "kernelspec": {
   "display_name": "Python 3",
   "language": "python",
   "name": "python3"
  },
  "language_info": {
   "codemirror_mode": {
    "name": "ipython",
    "version": 3
   },
   "file_extension": ".py",
   "mimetype": "text/x-python",
   "name": "python",
   "nbconvert_exporter": "python",
   "pygments_lexer": "ipython3",
   "version": "3.7.4"
  }
 },
 "nbformat": 4,
 "nbformat_minor": 2
}
